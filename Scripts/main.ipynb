import pandas as pd
import numpy as np
import ast

movies = pd.read_csv()

movies.head(5)
credits.head(5)['cast'].values
credits.head(5)['cast'].values

# Mergeing datasets
movies = movies.merge(credits,on='title')

# Fillter Out data for model 
movies = movies[['movie_id', 'title', 'overview', 'genres', 'keywords', 'cast', 'crew']]
movies.info()

### Data modeling (transform data type)/ pre-prossing 
#### Removing Duplicates, Heandling Missing Values

movies.isnull().sum()
# Drop the null value
movies.dropna(inplace=True)

# Checking Duplicate 
movies.duplicated().sum()

# 
movies.iloc[0].genres

# Change the datatype / Change format
def convert(obj):
    L = []
    for i in ast.literal_eval(obj):     # Change String into List
        L.append(i['name'])
    return L

movies['genres'] = movies['genres'].apply(convert)
movies['keywords'] = movies['keywords'].apply(convert)
movies['cast'][0]

# From Cast column i want only 3 dectinory
def convert_cast(obj):
    L = []
    counter = 0
    for i in ast.literal_eval(obj):     # Change String into List
        if counter != 3:
            L.append(i['name'])
            counter+=1
        else:
            break
    return L

# We will tacke only 3 actor name
movies['cast'] = movies['cast'].apply(convert_cast)
movies['crew'][0]

# From Cast column I want only 3 dectinory
def fecth_director(obj):
    L = []
    for i in ast.literal_eval(obj):     # Change String into List
        if i['job'] == 'Director':
            L.append(i['name'])
            break
    return L


movies['crew'] = movies['crew'].apply(fecth_director)
movies.head(2)

movies['overview'] = movies['overview'].apply(lambda x: x.split())

## First we remove the spaces from our some columns to ensure our ML model give us better results

movies['genres'] = movies['genres'].apply(lambda x:[i.replace(" ","")for i in x])
movies['keywords'] = movies['keywords'].apply(lambda x:[i.replace(" ","")for i in x])
movies['cast'] = movies['cast'].apply(lambda x:[i.replace(" ","")for i in x])
movies['crew'] = movies['crew'].apply(lambda x:[i.replace(" ","")for i in x])

# Now we concatenate some columns 
movies['tags'] = movies['overview'] + movies['genres'] + movies['keywords'] + movies['cast'] + movies['crew']

# Creating new data frame with custom columns
new_df = movies[['movie_id', 'title', 'tags']]
new_df.head(2)

# Now we applying "Seming" [Seming can identify same words like:- (love, loving, loved) to only love]
# For this We Import NLP Libraries "nltk"
import nltk

from nltk.stem.porter import PorterStemmer
ps = PorterStemmer()

def stem(text):
    y = []
    for i in text.split():
        y.append(ps.stem(i))
        
    return " ".join(y)


# Convert the [tags] list into string
new_df['tags'] = new_df['tags'].apply(lambda x: " ".join(x))
# Convert this into lower_case
new_df['tags'] = new_df['tags'].apply(lambda x: x.lower())

### Now we convert our [tags] column into vectors
# Importing scikit-learn
from sklearn.feature_extraction.text import CountVectorizer
cv = CountVectorizer(max_features= 5000, stop_words= 'english')  # Stop words are such as (a, are, the etc.)
vectors = cv.fit_transform(new_df['tags']).toarray()
vectors[0]
cv.get_feature_names_out()

def stem(text):
    y = []
    for i in text.split():
        y.append(ps.stem(i))
        
    return " ".join(y)

new_df['tags'] = new_df['tags'].apply(stem)

#### Calcualate [Consine Distance](angle between them) / Not using [Utident Distance](tip-to-tip distance) 
# Calcualate "Consine Similarity"
from sklearn.metrics.pairwise import cosine_similarity
similarity = cosine_similarity(vectors)
# Sotting the movies acoding to similarity
sorted(list(enumerate(similarity[0])), reverse=True, key=lambda x:x[1])[1:6]

# Create an function to find similar movies
def recommend(movie):
    movie_index = new_df[new_df['title'] == movie].index[0]  # Getting movie's index from dataset
    distances = similarity[movie_index]     # Finding destance/similarity between movies
    movies_list = sorted(list(enumerate(distances)), reverse=True, key=lambda x:x[1])[1:6]
    
    for  i in movies_list:
        print(new_df.iloc[i[0]].title)

recommend('Batman Begins')

# Importing pickle
import pickle
pickle.dump(new_df, open('movies.pkl','wb'))
pickle.dump(new_df.to_dict(), open('movie_dict.pkl','wb'))
pickle.dump(similarity, open('similarity.pkl', 'wb'))
        

